{
  "nbformat": 4,
  "nbformat_minor": 0,
  "metadata": {
    "colab": {
      "provenance": [],
      "gpuType": "V28",
      "authorship_tag": "ABX9TyNrOcVlB2bgEQZOiuDrVozz",
      "include_colab_link": true
    },
    "kernelspec": {
      "name": "python3",
      "display_name": "Python 3"
    },
    "language_info": {
      "name": "python"
    },
    "accelerator": "TPU"
  },
  "cells": [
    {
      "cell_type": "markdown",
      "metadata": {
        "id": "view-in-github",
        "colab_type": "text"
      },
      "source": [
        "<a href=\"https://colab.research.google.com/github/Himanshu-Barange/Deep-Learning-Projects/blob/main/Alzeihmer's_Detection_Using_Handwriting.ipynb\" target=\"_parent\"><img src=\"https://colab.research.google.com/assets/colab-badge.svg\" alt=\"Open In Colab\"/></a>"
      ]
    },
    {
      "cell_type": "code",
      "source": [
        "import pandas as pd\n",
        "import numpy as np\n",
        "import matplotlib.pyplot as plt\n",
        "import seaborn as sns"
      ],
      "metadata": {
        "id": "UF9xFCCfznHZ"
      },
      "execution_count": 1,
      "outputs": []
    },
    {
      "cell_type": "markdown",
      "source": [
        "## Data Loading"
      ],
      "metadata": {
        "id": "cxZDRR9lHYGK"
      }
    },
    {
      "cell_type": "code",
      "source": [
        "!pip install ucimlrepo"
      ],
      "metadata": {
        "colab": {
          "base_uri": "https://localhost:8080/"
        },
        "id": "aQyFcGG-zy3J",
        "outputId": "eed8edca-8084-4a97-a8b1-c0933e83d535"
      },
      "execution_count": 2,
      "outputs": [
        {
          "output_type": "stream",
          "name": "stdout",
          "text": [
            "Requirement already satisfied: ucimlrepo in /usr/local/lib/python3.10/dist-packages (0.0.7)\n",
            "Requirement already satisfied: pandas>=1.0.0 in /usr/local/lib/python3.10/dist-packages (from ucimlrepo) (2.1.4)\n",
            "Requirement already satisfied: certifi>=2020.12.5 in /usr/local/lib/python3.10/dist-packages (from ucimlrepo) (2024.7.4)\n",
            "Requirement already satisfied: numpy<2,>=1.22.4 in /usr/local/lib/python3.10/dist-packages (from pandas>=1.0.0->ucimlrepo) (1.26.4)\n",
            "Requirement already satisfied: python-dateutil>=2.8.2 in /usr/local/lib/python3.10/dist-packages (from pandas>=1.0.0->ucimlrepo) (2.9.0.post0)\n",
            "Requirement already satisfied: pytz>=2020.1 in /usr/local/lib/python3.10/dist-packages (from pandas>=1.0.0->ucimlrepo) (2024.1)\n",
            "Requirement already satisfied: tzdata>=2022.1 in /usr/local/lib/python3.10/dist-packages (from pandas>=1.0.0->ucimlrepo) (2024.1)\n",
            "Requirement already satisfied: six>=1.5 in /usr/local/lib/python3.10/dist-packages (from python-dateutil>=2.8.2->pandas>=1.0.0->ucimlrepo) (1.16.0)\n"
          ]
        }
      ]
    },
    {
      "cell_type": "code",
      "execution_count": 3,
      "metadata": {
        "colab": {
          "base_uri": "https://localhost:8080/"
        },
        "id": "8y4LM7xEzjS8",
        "outputId": "4af02301-20a6-4e01-db1e-950e20aeea92"
      },
      "outputs": [
        {
          "output_type": "stream",
          "name": "stdout",
          "text": [
            "{'uci_id': 732, 'name': 'DARWIN', 'repository_url': 'https://archive.ics.uci.edu/dataset/732/darwin', 'data_url': 'https://archive.ics.uci.edu/static/public/732/data.csv', 'abstract': 'The DARWIN dataset includes handwriting data from 174 participants. The classification task consists in distinguishing Alzheimer’s disease patients from healthy people.', 'area': 'Health and Medicine', 'tasks': ['Classification'], 'characteristics': ['Tabular'], 'num_instances': 174, 'num_features': 451, 'feature_types': [], 'demographics': [], 'target_col': ['class'], 'index_col': None, 'has_missing_values': 'no', 'missing_values_symbol': None, 'year_of_dataset_creation': 2022, 'last_updated': 'Fri Nov 03 2023', 'dataset_doi': '10.24432/C55D0K', 'creators': ['Francesco Fontanella'], 'intro_paper': {'title': 'Diagnosing Alzheimer’s disease from on-line handwriting: A novel dataset and performance benchmarking', 'authors': 'Nicole D. Cilia, Giuseppe De Gregorio , Claudio De Stefano, Francesco Fontanella, Angelo Marcelli, Antonio Parziale ', 'published_in': 'Journal', 'year': 2022, 'url': None, 'doi': None}, 'additional_info': {'summary': None, 'purpose': \"The DARWIN dataset was created to allow researchers to improve the existing machine learning methodologies for the prediction of Alzheimer's disease via handwriting analysis.\", 'funded_by': None, 'instances_represent': None, 'recommended_data_splits': None, 'sensitive_data': None, 'preprocessing_description': None, 'variable_info': None, 'citation': 'N. D. Cilia, C. De Stefano, F. Fontanella, A. S. Di Freca, An experimental protocol to support cognitive impairment diagnosis by using handwriting analysis, Procedia Computer Science 141 (2018) 466–471. https://doi.org/10.1016/j.procs.2018.10.141\\n\\nN. D. Cilia, G. De Gregorio, C. De Stefano, F. Fontanella, A. Marcelli, A. Parziale, Diagnosing Alzheimer’s disease from online handwriting: A novel dataset and performance benchmarking, Engineering Applications of Artificial Intelligence, Vol. 111 (20229) 104822. https://doi.org/10.1016/j.engappai.2022.104822'}}\n",
            "                name     role         type demographic description units  \\\n",
            "0                 ID  Feature  Categorical        None        None  None   \n",
            "1          air_time1  Feature      Integer        None        None  None   \n",
            "2        disp_index1  Feature  Categorical        None        None  None   \n",
            "3       gmrt_in_air1  Feature   Continuous        None        None  None   \n",
            "4     gmrt_on_paper1  Feature   Continuous        None        None  None   \n",
            "..               ...      ...          ...         ...         ...   ...   \n",
            "447     paper_time25  Feature      Integer        None        None  None   \n",
            "448  pressure_mean25  Feature   Continuous        None        None  None   \n",
            "449   pressure_var25  Feature   Continuous        None        None  None   \n",
            "450     total_time25  Feature      Integer        None        None  None   \n",
            "451            class   Target  Categorical        None        None  None   \n",
            "\n",
            "    missing_values  \n",
            "0               no  \n",
            "1               no  \n",
            "2               no  \n",
            "3               no  \n",
            "4               no  \n",
            "..             ...  \n",
            "447             no  \n",
            "448             no  \n",
            "449             no  \n",
            "450             no  \n",
            "451             no  \n",
            "\n",
            "[452 rows x 7 columns]\n"
          ]
        }
      ],
      "source": [
        "from ucimlrepo import fetch_ucirepo\n",
        "\n",
        "# fetch dataset\n",
        "darwin = fetch_ucirepo(id=732)\n",
        "\n",
        "# data (as pandas dataframes)\n",
        "X = darwin.data.features\n",
        "y = darwin.data.targets\n",
        "\n",
        "# metadata\n",
        "print(darwin.metadata)\n",
        "\n",
        "# variable information\n",
        "print(darwin.variables)\n"
      ]
    },
    {
      "cell_type": "markdown",
      "source": [
        "## Data Overview"
      ],
      "metadata": {
        "id": "Jes1QnM4HdsO"
      }
    },
    {
      "cell_type": "code",
      "source": [
        "X.head()"
      ],
      "metadata": {
        "colab": {
          "base_uri": "https://localhost:8080/",
          "height": 255
        },
        "id": "AfxsManQztki",
        "outputId": "759f52b2-5318-4414-b18e-26edc23dc495"
      },
      "execution_count": 4,
      "outputs": [
        {
          "output_type": "execute_result",
          "data": {
            "text/plain": [
              "     ID  air_time1  disp_index1  gmrt_in_air1  gmrt_on_paper1  \\\n",
              "0  id_1       5160     0.000013    120.804174       86.853334   \n",
              "1  id_2      51980     0.000016    115.318238       83.448681   \n",
              "2  id_3       2600     0.000010    229.933997      172.761858   \n",
              "3  id_4       2130     0.000010    369.403342      183.193104   \n",
              "4  id_5       2310     0.000007    257.997131      111.275889   \n",
              "\n",
              "   max_x_extension1  max_y_extension1  mean_acc_in_air1  mean_acc_on_paper1  \\\n",
              "0               957              6601          0.361800            0.217459   \n",
              "1              1694              6998          0.272513            0.144880   \n",
              "2              2333              5802          0.387020            0.181342   \n",
              "3              1756              8159          0.556879            0.164502   \n",
              "4               987              4732          0.266077            0.145104   \n",
              "\n",
              "   mean_gmrt1  ...  mean_gmrt25  mean_jerk_in_air25  mean_jerk_on_paper25  \\\n",
              "0  103.828754  ...   249.729085            0.141434              0.024471   \n",
              "1   99.383459  ...    77.258394            0.049663              0.018368   \n",
              "2  201.347928  ...   193.667018            0.178194              0.017174   \n",
              "3  276.298223  ...   163.065803            0.113905              0.019860   \n",
              "4  184.636510  ...   147.094679            0.121782              0.020872   \n",
              "\n",
              "   mean_speed_in_air25  mean_speed_on_paper25  num_of_pendown25  paper_time25  \\\n",
              "0             5.596487               3.184589                71         40120   \n",
              "1             1.665973               0.950249               129        126700   \n",
              "2             4.000781               2.392521                74         45480   \n",
              "3             4.206746               1.613522               123         67945   \n",
              "4             3.319036               1.680629                92         37285   \n",
              "\n",
              "   pressure_mean25  pressure_var25  total_time25  \n",
              "0      1749.278166     296102.7676        144605  \n",
              "1      1504.768272     278744.2850        298640  \n",
              "2      1431.443492     144411.7055         79025  \n",
              "3      1465.843329     230184.7154        181220  \n",
              "4      1841.702561     158290.0255         72575  \n",
              "\n",
              "[5 rows x 451 columns]"
            ],
            "text/html": [
              "\n",
              "  <div id=\"df-9e904cf2-8415-4264-98ff-33d57268502a\" class=\"colab-df-container\">\n",
              "    <div>\n",
              "<style scoped>\n",
              "    .dataframe tbody tr th:only-of-type {\n",
              "        vertical-align: middle;\n",
              "    }\n",
              "\n",
              "    .dataframe tbody tr th {\n",
              "        vertical-align: top;\n",
              "    }\n",
              "\n",
              "    .dataframe thead th {\n",
              "        text-align: right;\n",
              "    }\n",
              "</style>\n",
              "<table border=\"1\" class=\"dataframe\">\n",
              "  <thead>\n",
              "    <tr style=\"text-align: right;\">\n",
              "      <th></th>\n",
              "      <th>ID</th>\n",
              "      <th>air_time1</th>\n",
              "      <th>disp_index1</th>\n",
              "      <th>gmrt_in_air1</th>\n",
              "      <th>gmrt_on_paper1</th>\n",
              "      <th>max_x_extension1</th>\n",
              "      <th>max_y_extension1</th>\n",
              "      <th>mean_acc_in_air1</th>\n",
              "      <th>mean_acc_on_paper1</th>\n",
              "      <th>mean_gmrt1</th>\n",
              "      <th>...</th>\n",
              "      <th>mean_gmrt25</th>\n",
              "      <th>mean_jerk_in_air25</th>\n",
              "      <th>mean_jerk_on_paper25</th>\n",
              "      <th>mean_speed_in_air25</th>\n",
              "      <th>mean_speed_on_paper25</th>\n",
              "      <th>num_of_pendown25</th>\n",
              "      <th>paper_time25</th>\n",
              "      <th>pressure_mean25</th>\n",
              "      <th>pressure_var25</th>\n",
              "      <th>total_time25</th>\n",
              "    </tr>\n",
              "  </thead>\n",
              "  <tbody>\n",
              "    <tr>\n",
              "      <th>0</th>\n",
              "      <td>id_1</td>\n",
              "      <td>5160</td>\n",
              "      <td>0.000013</td>\n",
              "      <td>120.804174</td>\n",
              "      <td>86.853334</td>\n",
              "      <td>957</td>\n",
              "      <td>6601</td>\n",
              "      <td>0.361800</td>\n",
              "      <td>0.217459</td>\n",
              "      <td>103.828754</td>\n",
              "      <td>...</td>\n",
              "      <td>249.729085</td>\n",
              "      <td>0.141434</td>\n",
              "      <td>0.024471</td>\n",
              "      <td>5.596487</td>\n",
              "      <td>3.184589</td>\n",
              "      <td>71</td>\n",
              "      <td>40120</td>\n",
              "      <td>1749.278166</td>\n",
              "      <td>296102.7676</td>\n",
              "      <td>144605</td>\n",
              "    </tr>\n",
              "    <tr>\n",
              "      <th>1</th>\n",
              "      <td>id_2</td>\n",
              "      <td>51980</td>\n",
              "      <td>0.000016</td>\n",
              "      <td>115.318238</td>\n",
              "      <td>83.448681</td>\n",
              "      <td>1694</td>\n",
              "      <td>6998</td>\n",
              "      <td>0.272513</td>\n",
              "      <td>0.144880</td>\n",
              "      <td>99.383459</td>\n",
              "      <td>...</td>\n",
              "      <td>77.258394</td>\n",
              "      <td>0.049663</td>\n",
              "      <td>0.018368</td>\n",
              "      <td>1.665973</td>\n",
              "      <td>0.950249</td>\n",
              "      <td>129</td>\n",
              "      <td>126700</td>\n",
              "      <td>1504.768272</td>\n",
              "      <td>278744.2850</td>\n",
              "      <td>298640</td>\n",
              "    </tr>\n",
              "    <tr>\n",
              "      <th>2</th>\n",
              "      <td>id_3</td>\n",
              "      <td>2600</td>\n",
              "      <td>0.000010</td>\n",
              "      <td>229.933997</td>\n",
              "      <td>172.761858</td>\n",
              "      <td>2333</td>\n",
              "      <td>5802</td>\n",
              "      <td>0.387020</td>\n",
              "      <td>0.181342</td>\n",
              "      <td>201.347928</td>\n",
              "      <td>...</td>\n",
              "      <td>193.667018</td>\n",
              "      <td>0.178194</td>\n",
              "      <td>0.017174</td>\n",
              "      <td>4.000781</td>\n",
              "      <td>2.392521</td>\n",
              "      <td>74</td>\n",
              "      <td>45480</td>\n",
              "      <td>1431.443492</td>\n",
              "      <td>144411.7055</td>\n",
              "      <td>79025</td>\n",
              "    </tr>\n",
              "    <tr>\n",
              "      <th>3</th>\n",
              "      <td>id_4</td>\n",
              "      <td>2130</td>\n",
              "      <td>0.000010</td>\n",
              "      <td>369.403342</td>\n",
              "      <td>183.193104</td>\n",
              "      <td>1756</td>\n",
              "      <td>8159</td>\n",
              "      <td>0.556879</td>\n",
              "      <td>0.164502</td>\n",
              "      <td>276.298223</td>\n",
              "      <td>...</td>\n",
              "      <td>163.065803</td>\n",
              "      <td>0.113905</td>\n",
              "      <td>0.019860</td>\n",
              "      <td>4.206746</td>\n",
              "      <td>1.613522</td>\n",
              "      <td>123</td>\n",
              "      <td>67945</td>\n",
              "      <td>1465.843329</td>\n",
              "      <td>230184.7154</td>\n",
              "      <td>181220</td>\n",
              "    </tr>\n",
              "    <tr>\n",
              "      <th>4</th>\n",
              "      <td>id_5</td>\n",
              "      <td>2310</td>\n",
              "      <td>0.000007</td>\n",
              "      <td>257.997131</td>\n",
              "      <td>111.275889</td>\n",
              "      <td>987</td>\n",
              "      <td>4732</td>\n",
              "      <td>0.266077</td>\n",
              "      <td>0.145104</td>\n",
              "      <td>184.636510</td>\n",
              "      <td>...</td>\n",
              "      <td>147.094679</td>\n",
              "      <td>0.121782</td>\n",
              "      <td>0.020872</td>\n",
              "      <td>3.319036</td>\n",
              "      <td>1.680629</td>\n",
              "      <td>92</td>\n",
              "      <td>37285</td>\n",
              "      <td>1841.702561</td>\n",
              "      <td>158290.0255</td>\n",
              "      <td>72575</td>\n",
              "    </tr>\n",
              "  </tbody>\n",
              "</table>\n",
              "<p>5 rows × 451 columns</p>\n",
              "</div>\n",
              "    <div class=\"colab-df-buttons\">\n",
              "\n",
              "  <div class=\"colab-df-container\">\n",
              "    <button class=\"colab-df-convert\" onclick=\"convertToInteractive('df-9e904cf2-8415-4264-98ff-33d57268502a')\"\n",
              "            title=\"Convert this dataframe to an interactive table.\"\n",
              "            style=\"display:none;\">\n",
              "\n",
              "  <svg xmlns=\"http://www.w3.org/2000/svg\" height=\"24px\" viewBox=\"0 -960 960 960\">\n",
              "    <path d=\"M120-120v-720h720v720H120Zm60-500h600v-160H180v160Zm220 220h160v-160H400v160Zm0 220h160v-160H400v160ZM180-400h160v-160H180v160Zm440 0h160v-160H620v160ZM180-180h160v-160H180v160Zm440 0h160v-160H620v160Z\"/>\n",
              "  </svg>\n",
              "    </button>\n",
              "\n",
              "  <style>\n",
              "    .colab-df-container {\n",
              "      display:flex;\n",
              "      gap: 12px;\n",
              "    }\n",
              "\n",
              "    .colab-df-convert {\n",
              "      background-color: #E8F0FE;\n",
              "      border: none;\n",
              "      border-radius: 50%;\n",
              "      cursor: pointer;\n",
              "      display: none;\n",
              "      fill: #1967D2;\n",
              "      height: 32px;\n",
              "      padding: 0 0 0 0;\n",
              "      width: 32px;\n",
              "    }\n",
              "\n",
              "    .colab-df-convert:hover {\n",
              "      background-color: #E2EBFA;\n",
              "      box-shadow: 0px 1px 2px rgba(60, 64, 67, 0.3), 0px 1px 3px 1px rgba(60, 64, 67, 0.15);\n",
              "      fill: #174EA6;\n",
              "    }\n",
              "\n",
              "    .colab-df-buttons div {\n",
              "      margin-bottom: 4px;\n",
              "    }\n",
              "\n",
              "    [theme=dark] .colab-df-convert {\n",
              "      background-color: #3B4455;\n",
              "      fill: #D2E3FC;\n",
              "    }\n",
              "\n",
              "    [theme=dark] .colab-df-convert:hover {\n",
              "      background-color: #434B5C;\n",
              "      box-shadow: 0px 1px 3px 1px rgba(0, 0, 0, 0.15);\n",
              "      filter: drop-shadow(0px 1px 2px rgba(0, 0, 0, 0.3));\n",
              "      fill: #FFFFFF;\n",
              "    }\n",
              "  </style>\n",
              "\n",
              "    <script>\n",
              "      const buttonEl =\n",
              "        document.querySelector('#df-9e904cf2-8415-4264-98ff-33d57268502a button.colab-df-convert');\n",
              "      buttonEl.style.display =\n",
              "        google.colab.kernel.accessAllowed ? 'block' : 'none';\n",
              "\n",
              "      async function convertToInteractive(key) {\n",
              "        const element = document.querySelector('#df-9e904cf2-8415-4264-98ff-33d57268502a');\n",
              "        const dataTable =\n",
              "          await google.colab.kernel.invokeFunction('convertToInteractive',\n",
              "                                                    [key], {});\n",
              "        if (!dataTable) return;\n",
              "\n",
              "        const docLinkHtml = 'Like what you see? Visit the ' +\n",
              "          '<a target=\"_blank\" href=https://colab.research.google.com/notebooks/data_table.ipynb>data table notebook</a>'\n",
              "          + ' to learn more about interactive tables.';\n",
              "        element.innerHTML = '';\n",
              "        dataTable['output_type'] = 'display_data';\n",
              "        await google.colab.output.renderOutput(dataTable, element);\n",
              "        const docLink = document.createElement('div');\n",
              "        docLink.innerHTML = docLinkHtml;\n",
              "        element.appendChild(docLink);\n",
              "      }\n",
              "    </script>\n",
              "  </div>\n",
              "\n",
              "\n",
              "<div id=\"df-b791ab74-2073-4b51-ad79-2b43e2eeb883\">\n",
              "  <button class=\"colab-df-quickchart\" onclick=\"quickchart('df-b791ab74-2073-4b51-ad79-2b43e2eeb883')\"\n",
              "            title=\"Suggest charts\"\n",
              "            style=\"display:none;\">\n",
              "\n",
              "<svg xmlns=\"http://www.w3.org/2000/svg\" height=\"24px\"viewBox=\"0 0 24 24\"\n",
              "     width=\"24px\">\n",
              "    <g>\n",
              "        <path d=\"M19 3H5c-1.1 0-2 .9-2 2v14c0 1.1.9 2 2 2h14c1.1 0 2-.9 2-2V5c0-1.1-.9-2-2-2zM9 17H7v-7h2v7zm4 0h-2V7h2v10zm4 0h-2v-4h2v4z\"/>\n",
              "    </g>\n",
              "</svg>\n",
              "  </button>\n",
              "\n",
              "<style>\n",
              "  .colab-df-quickchart {\n",
              "      --bg-color: #E8F0FE;\n",
              "      --fill-color: #1967D2;\n",
              "      --hover-bg-color: #E2EBFA;\n",
              "      --hover-fill-color: #174EA6;\n",
              "      --disabled-fill-color: #AAA;\n",
              "      --disabled-bg-color: #DDD;\n",
              "  }\n",
              "\n",
              "  [theme=dark] .colab-df-quickchart {\n",
              "      --bg-color: #3B4455;\n",
              "      --fill-color: #D2E3FC;\n",
              "      --hover-bg-color: #434B5C;\n",
              "      --hover-fill-color: #FFFFFF;\n",
              "      --disabled-bg-color: #3B4455;\n",
              "      --disabled-fill-color: #666;\n",
              "  }\n",
              "\n",
              "  .colab-df-quickchart {\n",
              "    background-color: var(--bg-color);\n",
              "    border: none;\n",
              "    border-radius: 50%;\n",
              "    cursor: pointer;\n",
              "    display: none;\n",
              "    fill: var(--fill-color);\n",
              "    height: 32px;\n",
              "    padding: 0;\n",
              "    width: 32px;\n",
              "  }\n",
              "\n",
              "  .colab-df-quickchart:hover {\n",
              "    background-color: var(--hover-bg-color);\n",
              "    box-shadow: 0 1px 2px rgba(60, 64, 67, 0.3), 0 1px 3px 1px rgba(60, 64, 67, 0.15);\n",
              "    fill: var(--button-hover-fill-color);\n",
              "  }\n",
              "\n",
              "  .colab-df-quickchart-complete:disabled,\n",
              "  .colab-df-quickchart-complete:disabled:hover {\n",
              "    background-color: var(--disabled-bg-color);\n",
              "    fill: var(--disabled-fill-color);\n",
              "    box-shadow: none;\n",
              "  }\n",
              "\n",
              "  .colab-df-spinner {\n",
              "    border: 2px solid var(--fill-color);\n",
              "    border-color: transparent;\n",
              "    border-bottom-color: var(--fill-color);\n",
              "    animation:\n",
              "      spin 1s steps(1) infinite;\n",
              "  }\n",
              "\n",
              "  @keyframes spin {\n",
              "    0% {\n",
              "      border-color: transparent;\n",
              "      border-bottom-color: var(--fill-color);\n",
              "      border-left-color: var(--fill-color);\n",
              "    }\n",
              "    20% {\n",
              "      border-color: transparent;\n",
              "      border-left-color: var(--fill-color);\n",
              "      border-top-color: var(--fill-color);\n",
              "    }\n",
              "    30% {\n",
              "      border-color: transparent;\n",
              "      border-left-color: var(--fill-color);\n",
              "      border-top-color: var(--fill-color);\n",
              "      border-right-color: var(--fill-color);\n",
              "    }\n",
              "    40% {\n",
              "      border-color: transparent;\n",
              "      border-right-color: var(--fill-color);\n",
              "      border-top-color: var(--fill-color);\n",
              "    }\n",
              "    60% {\n",
              "      border-color: transparent;\n",
              "      border-right-color: var(--fill-color);\n",
              "    }\n",
              "    80% {\n",
              "      border-color: transparent;\n",
              "      border-right-color: var(--fill-color);\n",
              "      border-bottom-color: var(--fill-color);\n",
              "    }\n",
              "    90% {\n",
              "      border-color: transparent;\n",
              "      border-bottom-color: var(--fill-color);\n",
              "    }\n",
              "  }\n",
              "</style>\n",
              "\n",
              "  <script>\n",
              "    async function quickchart(key) {\n",
              "      const quickchartButtonEl =\n",
              "        document.querySelector('#' + key + ' button');\n",
              "      quickchartButtonEl.disabled = true;  // To prevent multiple clicks.\n",
              "      quickchartButtonEl.classList.add('colab-df-spinner');\n",
              "      try {\n",
              "        const charts = await google.colab.kernel.invokeFunction(\n",
              "            'suggestCharts', [key], {});\n",
              "      } catch (error) {\n",
              "        console.error('Error during call to suggestCharts:', error);\n",
              "      }\n",
              "      quickchartButtonEl.classList.remove('colab-df-spinner');\n",
              "      quickchartButtonEl.classList.add('colab-df-quickchart-complete');\n",
              "    }\n",
              "    (() => {\n",
              "      let quickchartButtonEl =\n",
              "        document.querySelector('#df-b791ab74-2073-4b51-ad79-2b43e2eeb883 button');\n",
              "      quickchartButtonEl.style.display =\n",
              "        google.colab.kernel.accessAllowed ? 'block' : 'none';\n",
              "    })();\n",
              "  </script>\n",
              "</div>\n",
              "\n",
              "    </div>\n",
              "  </div>\n"
            ],
            "application/vnd.google.colaboratory.intrinsic+json": {
              "type": "dataframe",
              "variable_name": "X"
            }
          },
          "metadata": {},
          "execution_count": 4
        }
      ]
    },
    {
      "cell_type": "code",
      "source": [
        "y.head()"
      ],
      "metadata": {
        "colab": {
          "base_uri": "https://localhost:8080/",
          "height": 206
        },
        "id": "arx7U0VCz8Lj",
        "outputId": "b39c9aa2-08dd-4cea-bd12-3ab9e8ec055d"
      },
      "execution_count": 5,
      "outputs": [
        {
          "output_type": "execute_result",
          "data": {
            "text/plain": [
              "  class\n",
              "0     P\n",
              "1     P\n",
              "2     P\n",
              "3     P\n",
              "4     P"
            ],
            "text/html": [
              "\n",
              "  <div id=\"df-8203eb13-904c-48fe-ba16-4d3e396c4a93\" class=\"colab-df-container\">\n",
              "    <div>\n",
              "<style scoped>\n",
              "    .dataframe tbody tr th:only-of-type {\n",
              "        vertical-align: middle;\n",
              "    }\n",
              "\n",
              "    .dataframe tbody tr th {\n",
              "        vertical-align: top;\n",
              "    }\n",
              "\n",
              "    .dataframe thead th {\n",
              "        text-align: right;\n",
              "    }\n",
              "</style>\n",
              "<table border=\"1\" class=\"dataframe\">\n",
              "  <thead>\n",
              "    <tr style=\"text-align: right;\">\n",
              "      <th></th>\n",
              "      <th>class</th>\n",
              "    </tr>\n",
              "  </thead>\n",
              "  <tbody>\n",
              "    <tr>\n",
              "      <th>0</th>\n",
              "      <td>P</td>\n",
              "    </tr>\n",
              "    <tr>\n",
              "      <th>1</th>\n",
              "      <td>P</td>\n",
              "    </tr>\n",
              "    <tr>\n",
              "      <th>2</th>\n",
              "      <td>P</td>\n",
              "    </tr>\n",
              "    <tr>\n",
              "      <th>3</th>\n",
              "      <td>P</td>\n",
              "    </tr>\n",
              "    <tr>\n",
              "      <th>4</th>\n",
              "      <td>P</td>\n",
              "    </tr>\n",
              "  </tbody>\n",
              "</table>\n",
              "</div>\n",
              "    <div class=\"colab-df-buttons\">\n",
              "\n",
              "  <div class=\"colab-df-container\">\n",
              "    <button class=\"colab-df-convert\" onclick=\"convertToInteractive('df-8203eb13-904c-48fe-ba16-4d3e396c4a93')\"\n",
              "            title=\"Convert this dataframe to an interactive table.\"\n",
              "            style=\"display:none;\">\n",
              "\n",
              "  <svg xmlns=\"http://www.w3.org/2000/svg\" height=\"24px\" viewBox=\"0 -960 960 960\">\n",
              "    <path d=\"M120-120v-720h720v720H120Zm60-500h600v-160H180v160Zm220 220h160v-160H400v160Zm0 220h160v-160H400v160ZM180-400h160v-160H180v160Zm440 0h160v-160H620v160ZM180-180h160v-160H180v160Zm440 0h160v-160H620v160Z\"/>\n",
              "  </svg>\n",
              "    </button>\n",
              "\n",
              "  <style>\n",
              "    .colab-df-container {\n",
              "      display:flex;\n",
              "      gap: 12px;\n",
              "    }\n",
              "\n",
              "    .colab-df-convert {\n",
              "      background-color: #E8F0FE;\n",
              "      border: none;\n",
              "      border-radius: 50%;\n",
              "      cursor: pointer;\n",
              "      display: none;\n",
              "      fill: #1967D2;\n",
              "      height: 32px;\n",
              "      padding: 0 0 0 0;\n",
              "      width: 32px;\n",
              "    }\n",
              "\n",
              "    .colab-df-convert:hover {\n",
              "      background-color: #E2EBFA;\n",
              "      box-shadow: 0px 1px 2px rgba(60, 64, 67, 0.3), 0px 1px 3px 1px rgba(60, 64, 67, 0.15);\n",
              "      fill: #174EA6;\n",
              "    }\n",
              "\n",
              "    .colab-df-buttons div {\n",
              "      margin-bottom: 4px;\n",
              "    }\n",
              "\n",
              "    [theme=dark] .colab-df-convert {\n",
              "      background-color: #3B4455;\n",
              "      fill: #D2E3FC;\n",
              "    }\n",
              "\n",
              "    [theme=dark] .colab-df-convert:hover {\n",
              "      background-color: #434B5C;\n",
              "      box-shadow: 0px 1px 3px 1px rgba(0, 0, 0, 0.15);\n",
              "      filter: drop-shadow(0px 1px 2px rgba(0, 0, 0, 0.3));\n",
              "      fill: #FFFFFF;\n",
              "    }\n",
              "  </style>\n",
              "\n",
              "    <script>\n",
              "      const buttonEl =\n",
              "        document.querySelector('#df-8203eb13-904c-48fe-ba16-4d3e396c4a93 button.colab-df-convert');\n",
              "      buttonEl.style.display =\n",
              "        google.colab.kernel.accessAllowed ? 'block' : 'none';\n",
              "\n",
              "      async function convertToInteractive(key) {\n",
              "        const element = document.querySelector('#df-8203eb13-904c-48fe-ba16-4d3e396c4a93');\n",
              "        const dataTable =\n",
              "          await google.colab.kernel.invokeFunction('convertToInteractive',\n",
              "                                                    [key], {});\n",
              "        if (!dataTable) return;\n",
              "\n",
              "        const docLinkHtml = 'Like what you see? Visit the ' +\n",
              "          '<a target=\"_blank\" href=https://colab.research.google.com/notebooks/data_table.ipynb>data table notebook</a>'\n",
              "          + ' to learn more about interactive tables.';\n",
              "        element.innerHTML = '';\n",
              "        dataTable['output_type'] = 'display_data';\n",
              "        await google.colab.output.renderOutput(dataTable, element);\n",
              "        const docLink = document.createElement('div');\n",
              "        docLink.innerHTML = docLinkHtml;\n",
              "        element.appendChild(docLink);\n",
              "      }\n",
              "    </script>\n",
              "  </div>\n",
              "\n",
              "\n",
              "<div id=\"df-1a08638d-84ef-412b-8344-4e19122cee26\">\n",
              "  <button class=\"colab-df-quickchart\" onclick=\"quickchart('df-1a08638d-84ef-412b-8344-4e19122cee26')\"\n",
              "            title=\"Suggest charts\"\n",
              "            style=\"display:none;\">\n",
              "\n",
              "<svg xmlns=\"http://www.w3.org/2000/svg\" height=\"24px\"viewBox=\"0 0 24 24\"\n",
              "     width=\"24px\">\n",
              "    <g>\n",
              "        <path d=\"M19 3H5c-1.1 0-2 .9-2 2v14c0 1.1.9 2 2 2h14c1.1 0 2-.9 2-2V5c0-1.1-.9-2-2-2zM9 17H7v-7h2v7zm4 0h-2V7h2v10zm4 0h-2v-4h2v4z\"/>\n",
              "    </g>\n",
              "</svg>\n",
              "  </button>\n",
              "\n",
              "<style>\n",
              "  .colab-df-quickchart {\n",
              "      --bg-color: #E8F0FE;\n",
              "      --fill-color: #1967D2;\n",
              "      --hover-bg-color: #E2EBFA;\n",
              "      --hover-fill-color: #174EA6;\n",
              "      --disabled-fill-color: #AAA;\n",
              "      --disabled-bg-color: #DDD;\n",
              "  }\n",
              "\n",
              "  [theme=dark] .colab-df-quickchart {\n",
              "      --bg-color: #3B4455;\n",
              "      --fill-color: #D2E3FC;\n",
              "      --hover-bg-color: #434B5C;\n",
              "      --hover-fill-color: #FFFFFF;\n",
              "      --disabled-bg-color: #3B4455;\n",
              "      --disabled-fill-color: #666;\n",
              "  }\n",
              "\n",
              "  .colab-df-quickchart {\n",
              "    background-color: var(--bg-color);\n",
              "    border: none;\n",
              "    border-radius: 50%;\n",
              "    cursor: pointer;\n",
              "    display: none;\n",
              "    fill: var(--fill-color);\n",
              "    height: 32px;\n",
              "    padding: 0;\n",
              "    width: 32px;\n",
              "  }\n",
              "\n",
              "  .colab-df-quickchart:hover {\n",
              "    background-color: var(--hover-bg-color);\n",
              "    box-shadow: 0 1px 2px rgba(60, 64, 67, 0.3), 0 1px 3px 1px rgba(60, 64, 67, 0.15);\n",
              "    fill: var(--button-hover-fill-color);\n",
              "  }\n",
              "\n",
              "  .colab-df-quickchart-complete:disabled,\n",
              "  .colab-df-quickchart-complete:disabled:hover {\n",
              "    background-color: var(--disabled-bg-color);\n",
              "    fill: var(--disabled-fill-color);\n",
              "    box-shadow: none;\n",
              "  }\n",
              "\n",
              "  .colab-df-spinner {\n",
              "    border: 2px solid var(--fill-color);\n",
              "    border-color: transparent;\n",
              "    border-bottom-color: var(--fill-color);\n",
              "    animation:\n",
              "      spin 1s steps(1) infinite;\n",
              "  }\n",
              "\n",
              "  @keyframes spin {\n",
              "    0% {\n",
              "      border-color: transparent;\n",
              "      border-bottom-color: var(--fill-color);\n",
              "      border-left-color: var(--fill-color);\n",
              "    }\n",
              "    20% {\n",
              "      border-color: transparent;\n",
              "      border-left-color: var(--fill-color);\n",
              "      border-top-color: var(--fill-color);\n",
              "    }\n",
              "    30% {\n",
              "      border-color: transparent;\n",
              "      border-left-color: var(--fill-color);\n",
              "      border-top-color: var(--fill-color);\n",
              "      border-right-color: var(--fill-color);\n",
              "    }\n",
              "    40% {\n",
              "      border-color: transparent;\n",
              "      border-right-color: var(--fill-color);\n",
              "      border-top-color: var(--fill-color);\n",
              "    }\n",
              "    60% {\n",
              "      border-color: transparent;\n",
              "      border-right-color: var(--fill-color);\n",
              "    }\n",
              "    80% {\n",
              "      border-color: transparent;\n",
              "      border-right-color: var(--fill-color);\n",
              "      border-bottom-color: var(--fill-color);\n",
              "    }\n",
              "    90% {\n",
              "      border-color: transparent;\n",
              "      border-bottom-color: var(--fill-color);\n",
              "    }\n",
              "  }\n",
              "</style>\n",
              "\n",
              "  <script>\n",
              "    async function quickchart(key) {\n",
              "      const quickchartButtonEl =\n",
              "        document.querySelector('#' + key + ' button');\n",
              "      quickchartButtonEl.disabled = true;  // To prevent multiple clicks.\n",
              "      quickchartButtonEl.classList.add('colab-df-spinner');\n",
              "      try {\n",
              "        const charts = await google.colab.kernel.invokeFunction(\n",
              "            'suggestCharts', [key], {});\n",
              "      } catch (error) {\n",
              "        console.error('Error during call to suggestCharts:', error);\n",
              "      }\n",
              "      quickchartButtonEl.classList.remove('colab-df-spinner');\n",
              "      quickchartButtonEl.classList.add('colab-df-quickchart-complete');\n",
              "    }\n",
              "    (() => {\n",
              "      let quickchartButtonEl =\n",
              "        document.querySelector('#df-1a08638d-84ef-412b-8344-4e19122cee26 button');\n",
              "      quickchartButtonEl.style.display =\n",
              "        google.colab.kernel.accessAllowed ? 'block' : 'none';\n",
              "    })();\n",
              "  </script>\n",
              "</div>\n",
              "\n",
              "    </div>\n",
              "  </div>\n"
            ],
            "application/vnd.google.colaboratory.intrinsic+json": {
              "type": "dataframe",
              "variable_name": "y",
              "summary": "{\n  \"name\": \"y\",\n  \"rows\": 174,\n  \"fields\": [\n    {\n      \"column\": \"class\",\n      \"properties\": {\n        \"dtype\": \"category\",\n        \"num_unique_values\": 2,\n        \"samples\": [\n          \"H\",\n          \"P\"\n        ],\n        \"semantic_type\": \"\",\n        \"description\": \"\"\n      }\n    }\n  ]\n}"
            }
          },
          "metadata": {},
          "execution_count": 5
        }
      ]
    },
    {
      "cell_type": "markdown",
      "source": [
        "- Labels are 'P' and 'H'\n",
        "    - P means positive\n",
        "    - H means healthy (no alzheimer's)"
      ],
      "metadata": {
        "id": "yV6THh3WIwjI"
      }
    },
    {
      "cell_type": "code",
      "source": [
        "y.squeeze(axis = 1).unique()"
      ],
      "metadata": {
        "colab": {
          "base_uri": "https://localhost:8080/"
        },
        "id": "m4xU9tMM21fX",
        "outputId": "fca4a2d0-9a96-41fe-93c7-b6d690acb7c0"
      },
      "execution_count": 6,
      "outputs": [
        {
          "output_type": "execute_result",
          "data": {
            "text/plain": [
              "array(['P', 'H'], dtype=object)"
            ]
          },
          "metadata": {},
          "execution_count": 6
        }
      ]
    },
    {
      "cell_type": "code",
      "source": [
        "X.info()"
      ],
      "metadata": {
        "colab": {
          "base_uri": "https://localhost:8080/"
        },
        "id": "aYBovzBb0Rpj",
        "outputId": "808cee09-b93e-41a6-9518-050320016a7d"
      },
      "execution_count": 7,
      "outputs": [
        {
          "output_type": "stream",
          "name": "stdout",
          "text": [
            "<class 'pandas.core.frame.DataFrame'>\n",
            "RangeIndex: 174 entries, 0 to 173\n",
            "Columns: 451 entries, ID to total_time25\n",
            "dtypes: float64(300), int64(150), object(1)\n",
            "memory usage: 613.2+ KB\n"
          ]
        }
      ]
    },
    {
      "cell_type": "markdown",
      "source": [
        "Looking out if IDs are all unique as per the expectation, or not"
      ],
      "metadata": {
        "id": "oboVOiO-JDPV"
      }
    },
    {
      "cell_type": "code",
      "source": [
        "X.ID.unique()"
      ],
      "metadata": {
        "colab": {
          "base_uri": "https://localhost:8080/"
        },
        "id": "CREqRVdk0e5c",
        "outputId": "3f9599c7-29cb-4015-ddcc-61703691f4aa"
      },
      "execution_count": 8,
      "outputs": [
        {
          "output_type": "execute_result",
          "data": {
            "text/plain": [
              "array(['id_1', 'id_2', 'id_3', 'id_4', 'id_5', 'id_6', 'id_7', 'id_8',\n",
              "       'id_9', 'id_10', 'id_11', 'id_12', 'id_13', 'id_14', 'id_15',\n",
              "       'id_16', 'id_17', 'id_18', 'id_19', 'id_20', 'id_21', 'id_22',\n",
              "       'id_23', 'id_24', 'id_25', 'id_26', 'id_27', 'id_28', 'id_29',\n",
              "       'id_30', 'id_31', 'id_32', 'id_33', 'id_34', 'id_35', 'id_36',\n",
              "       'id_37', 'id_38', 'id_39', 'id_40', 'id_41', 'id_42', 'id_43',\n",
              "       'id_44', 'id_45', 'id_46', 'id_47', 'id_48', 'id_49', 'id_50',\n",
              "       'id_51', 'id_52', 'id_53', 'id_54', 'id_55', 'id_56', 'id_57',\n",
              "       'id_58', 'id_59', 'id_60', 'id_61', 'id_62', 'id_63', 'id_64',\n",
              "       'id_65', 'id_66', 'id_67', 'id_68', 'id_69', 'id_70', 'id_71',\n",
              "       'id_72', 'id_73', 'id_74', 'id_75', 'id_76', 'id_77', 'id_78',\n",
              "       'id_79', 'id_80', 'id_81', 'id_82', 'id_83', 'id_84', 'id_85',\n",
              "       'id_86', 'id_87', 'id_88', 'id_89', 'id_90', 'id_91', 'id_92',\n",
              "       'id_93', 'id_94', 'id_95', 'id_96', 'id_97', 'id_98', 'id_99',\n",
              "       'id_100', 'id_101', 'id_102', 'id_103', 'id_104', 'id_105',\n",
              "       'id_106', 'id_107', 'id_108', 'id_109', 'id_110', 'id_111',\n",
              "       'id_112', 'id_113', 'id_114', 'id_115', 'id_116', 'id_117',\n",
              "       'id_118', 'id_119', 'id_120', 'id_121', 'id_122', 'id_123',\n",
              "       'id_124', 'id_125', 'id_126', 'id_127', 'id_128', 'id_129',\n",
              "       'id_130', 'id_131', 'id_132', 'id_133', 'id_134', 'id_135',\n",
              "       'id_136', 'id_137', 'id_138', 'id_139', 'id_140', 'id_141',\n",
              "       'id_142', 'id_143', 'id_144', 'id_145', 'id_146', 'id_147',\n",
              "       'id_148', 'id_149', 'id_150', 'id_151', 'id_152', 'id_153',\n",
              "       'id_154', 'id_155', 'id_156', 'id_157', 'id_158', 'id_159',\n",
              "       'id_160', 'id_161', 'id_162', 'id_163', 'id_164', 'id_165',\n",
              "       'id_166', 'id_167', 'id_168', 'id_169', 'id_170', 'id_171',\n",
              "       'id_172', 'id_173', 'id_174'], dtype=object)"
            ]
          },
          "metadata": {},
          "execution_count": 8
        }
      ]
    },
    {
      "cell_type": "markdown",
      "source": [
        "## Preprocessing"
      ],
      "metadata": {
        "id": "3_pmWoAlHi1I"
      }
    },
    {
      "cell_type": "code",
      "source": [
        "from sklearn.preprocessing import LabelEncoder, RobustScaler"
      ],
      "metadata": {
        "id": "r96c_Q652gwk"
      },
      "execution_count": 9,
      "outputs": []
    },
    {
      "cell_type": "code",
      "source": [
        "\n",
        "def preprocess(X: pd.DataFrame, y: pd.DataFrame) -> tuple:\n",
        "    \"\"\"\"\n",
        "    Remove column 'ID' from X if available.\n",
        "    Scale X using RobustScaler.\n",
        "    Encode y using LabelEncoder.\n",
        "    Return X and y.\n",
        "    \"\"\"\n",
        "    if 'ID' in X.columns:\n",
        "        X = X.drop('ID', axis=1)\n",
        "\n",
        "    scaler = RobustScaler()\n",
        "    X = scaler.fit_transform(X)\n",
        "\n",
        "    encoder = LabelEncoder()\n",
        "    y = encoder.fit_transform(y)\n",
        "\n",
        "    return X, y\n",
        "\n",
        "X, y = preprocess(X, y)"
      ],
      "metadata": {
        "colab": {
          "base_uri": "https://localhost:8080/"
        },
        "id": "eiQiugHx2wYl",
        "outputId": "21959de1-236f-4a45-faa7-59b156f57e0a"
      },
      "execution_count": 10,
      "outputs": [
        {
          "output_type": "stream",
          "name": "stderr",
          "text": [
            "/usr/local/lib/python3.10/dist-packages/sklearn/preprocessing/_label.py:114: DataConversionWarning: A column-vector y was passed when a 1d array was expected. Please change the shape of y to (n_samples, ), for example using ravel().\n",
            "  y = column_or_1d(y, warn=True)\n"
          ]
        }
      ]
    },
    {
      "cell_type": "code",
      "source": [
        "from sklearn.model_selection import train_test_split"
      ],
      "metadata": {
        "id": "Rf9jbIxA4bgW"
      },
      "execution_count": 11,
      "outputs": []
    },
    {
      "cell_type": "code",
      "source": [
        "x_train, x_test, y_train, y_test = train_test_split(X, y, test_size=0.3, random_state=36)"
      ],
      "metadata": {
        "id": "MHmrR4J64tWP"
      },
      "execution_count": 12,
      "outputs": []
    },
    {
      "cell_type": "markdown",
      "source": [
        "## Model Selection"
      ],
      "metadata": {
        "id": "4tk4p3wRL4j1"
      }
    },
    {
      "cell_type": "code",
      "source": [
        "from sklearn.ensemble import RandomForestClassifier"
      ],
      "metadata": {
        "id": "-670BQTG4wG1"
      },
      "execution_count": 13,
      "outputs": []
    },
    {
      "cell_type": "code",
      "source": [
        "from sklearn.metrics import accuracy_score, confusion_matrix, classification_report"
      ],
      "metadata": {
        "id": "xVYbdudj5B1Y"
      },
      "execution_count": 14,
      "outputs": []
    },
    {
      "cell_type": "markdown",
      "source": [
        "#### Random Forest"
      ],
      "metadata": {
        "id": "oXHXedCZL9TO"
      }
    },
    {
      "cell_type": "code",
      "source": [
        "rf = RandomForestClassifier(random_state = 36).fit(x_train, y_train)\n",
        "predictions = rf.predict(x_test)\n",
        "print(accuracy_score(y_test, predictions))\n",
        "print(confusion_matrix(y_test, predictions))\n",
        "print(classification_report(y_test, predictions))"
      ],
      "metadata": {
        "colab": {
          "base_uri": "https://localhost:8080/"
        },
        "id": "Z9W6EWek41Gj",
        "outputId": "cd271290-ff54-4e66-f975-d8bd7cac92f4"
      },
      "execution_count": 15,
      "outputs": [
        {
          "output_type": "stream",
          "name": "stdout",
          "text": [
            "0.8679245283018868\n",
            "[[20  5]\n",
            " [ 2 26]]\n",
            "              precision    recall  f1-score   support\n",
            "\n",
            "           0       0.91      0.80      0.85        25\n",
            "           1       0.84      0.93      0.88        28\n",
            "\n",
            "    accuracy                           0.87        53\n",
            "   macro avg       0.87      0.86      0.87        53\n",
            "weighted avg       0.87      0.87      0.87        53\n",
            "\n"
          ]
        }
      ]
    },
    {
      "cell_type": "markdown",
      "source": [
        "#### Gradient Boosting Classifier"
      ],
      "metadata": {
        "id": "7vd6RKR7MBcI"
      }
    },
    {
      "cell_type": "code",
      "source": [
        "from sklearn.ensemble import GradientBoostingClassifier"
      ],
      "metadata": {
        "id": "usxCEtnC5Noa"
      },
      "execution_count": 16,
      "outputs": []
    },
    {
      "cell_type": "code",
      "source": [
        "gbc = GradientBoostingClassifier(random_state=36).fit(x_train, y_train)\n",
        "predictions = gbc.predict(x_test)\n",
        "print(accuracy_score(y_test, predictions))\n",
        "print(confusion_matrix(y_test, predictions))\n",
        "print(classification_report(y_test, predictions))"
      ],
      "metadata": {
        "colab": {
          "base_uri": "https://localhost:8080/"
        },
        "id": "d2ZaKAu75ued",
        "outputId": "2215e244-6ceb-4ffc-c2d2-61327f8b8101"
      },
      "execution_count": 17,
      "outputs": [
        {
          "output_type": "stream",
          "name": "stdout",
          "text": [
            "0.8867924528301887\n",
            "[[22  3]\n",
            " [ 3 25]]\n",
            "              precision    recall  f1-score   support\n",
            "\n",
            "           0       0.88      0.88      0.88        25\n",
            "           1       0.89      0.89      0.89        28\n",
            "\n",
            "    accuracy                           0.89        53\n",
            "   macro avg       0.89      0.89      0.89        53\n",
            "weighted avg       0.89      0.89      0.89        53\n",
            "\n"
          ]
        }
      ]
    },
    {
      "cell_type": "markdown",
      "source": [
        "#### Logistic Regression"
      ],
      "metadata": {
        "id": "zgDcI9tDMGib"
      }
    },
    {
      "cell_type": "code",
      "source": [
        "from sklearn.linear_model import LogisticRegression"
      ],
      "metadata": {
        "id": "6JbS6qXa54RD"
      },
      "execution_count": 18,
      "outputs": []
    },
    {
      "cell_type": "code",
      "source": [
        "regressor = LogisticRegression(random_state=36).fit(x_train, y_train)\n",
        "predictions = regressor.predict(x_test)\n",
        "print(accuracy_score(y_test, predictions))\n",
        "print(confusion_matrix(y_test, predictions))\n",
        "print(classification_report(y_test, predictions))"
      ],
      "metadata": {
        "colab": {
          "base_uri": "https://localhost:8080/"
        },
        "id": "wHKWx0Pq6CPl",
        "outputId": "c3ffefd4-b669-4ed7-f3aa-959482d5876e"
      },
      "execution_count": 19,
      "outputs": [
        {
          "output_type": "stream",
          "name": "stdout",
          "text": [
            "0.8301886792452831\n",
            "[[20  5]\n",
            " [ 4 24]]\n",
            "              precision    recall  f1-score   support\n",
            "\n",
            "           0       0.83      0.80      0.82        25\n",
            "           1       0.83      0.86      0.84        28\n",
            "\n",
            "    accuracy                           0.83        53\n",
            "   macro avg       0.83      0.83      0.83        53\n",
            "weighted avg       0.83      0.83      0.83        53\n",
            "\n"
          ]
        },
        {
          "output_type": "stream",
          "name": "stderr",
          "text": [
            "/usr/local/lib/python3.10/dist-packages/sklearn/linear_model/_logistic.py:460: ConvergenceWarning: lbfgs failed to converge (status=1):\n",
            "STOP: TOTAL NO. of ITERATIONS REACHED LIMIT.\n",
            "\n",
            "Increase the number of iterations (max_iter) or scale the data as shown in:\n",
            "    https://scikit-learn.org/stable/modules/preprocessing.html\n",
            "Please also refer to the documentation for alternative solver options:\n",
            "    https://scikit-learn.org/stable/modules/linear_model.html#logistic-regression\n",
            "  n_iter_i = _check_optimize_result(\n"
          ]
        }
      ]
    },
    {
      "cell_type": "markdown",
      "source": [
        "#### Extra Trees Classifier"
      ],
      "metadata": {
        "id": "l36MedwRMKmE"
      }
    },
    {
      "cell_type": "code",
      "source": [
        "from sklearn.ensemble import ExtraTreesClassifier"
      ],
      "metadata": {
        "id": "zHfZ822v6GJT"
      },
      "execution_count": 20,
      "outputs": []
    },
    {
      "cell_type": "code",
      "source": [
        "xtree = ExtraTreesClassifier(random_state=36).fit(x_train, y_train)\n",
        "predictions = xtree.predict(x_test)\n",
        "print(accuracy_score(y_test, predictions))\n",
        "print(confusion_matrix(y_test, predictions))\n",
        "print(classification_report(y_test, predictions))"
      ],
      "metadata": {
        "colab": {
          "base_uri": "https://localhost:8080/"
        },
        "id": "xTt57SbW6OJZ",
        "outputId": "38e08476-1914-420f-90ac-f96ec1696e19"
      },
      "execution_count": 21,
      "outputs": [
        {
          "output_type": "stream",
          "name": "stdout",
          "text": [
            "0.8867924528301887\n",
            "[[21  4]\n",
            " [ 2 26]]\n",
            "              precision    recall  f1-score   support\n",
            "\n",
            "           0       0.91      0.84      0.87        25\n",
            "           1       0.87      0.93      0.90        28\n",
            "\n",
            "    accuracy                           0.89        53\n",
            "   macro avg       0.89      0.88      0.89        53\n",
            "weighted avg       0.89      0.89      0.89        53\n",
            "\n"
          ]
        }
      ]
    },
    {
      "cell_type": "markdown",
      "source": [
        "#### AdaBoost Classifier"
      ],
      "metadata": {
        "id": "1w_TDWUcMPBp"
      }
    },
    {
      "cell_type": "code",
      "source": [
        "from sklearn.ensemble import AdaBoostClassifier"
      ],
      "metadata": {
        "id": "PhIGk6Qp6Ui9"
      },
      "execution_count": 22,
      "outputs": []
    },
    {
      "cell_type": "code",
      "source": [
        "adc = AdaBoostClassifier(random_state=36).fit(x_train, y_train)\n",
        "predictions = adc.predict(x_test)\n",
        "print(accuracy_score(y_test, predictions))\n",
        "print(confusion_matrix(y_test, predictions))\n",
        "print(classification_report(y_test, predictions))"
      ],
      "metadata": {
        "colab": {
          "base_uri": "https://localhost:8080/"
        },
        "id": "9NxxKOKL6YZ_",
        "outputId": "535ee9e3-607f-486b-e213-a07994b453a4"
      },
      "execution_count": 23,
      "outputs": [
        {
          "output_type": "stream",
          "name": "stdout",
          "text": [
            "0.8679245283018868\n",
            "[[20  5]\n",
            " [ 2 26]]\n",
            "              precision    recall  f1-score   support\n",
            "\n",
            "           0       0.91      0.80      0.85        25\n",
            "           1       0.84      0.93      0.88        28\n",
            "\n",
            "    accuracy                           0.87        53\n",
            "   macro avg       0.87      0.86      0.87        53\n",
            "weighted avg       0.87      0.87      0.87        53\n",
            "\n"
          ]
        }
      ]
    },
    {
      "cell_type": "markdown",
      "source": [
        "#### Bagging Classifier"
      ],
      "metadata": {
        "id": "dGprDhuuMS9N"
      }
    },
    {
      "cell_type": "code",
      "source": [
        "from sklearn.ensemble import BaggingClassifier"
      ],
      "metadata": {
        "id": "BKHR1BWw6abs"
      },
      "execution_count": 24,
      "outputs": []
    },
    {
      "cell_type": "code",
      "source": [
        "bgc =  BaggingClassifier(random_state=36).fit(x_train, y_train)\n",
        "predictions = bgc.predict(x_test)\n",
        "print(accuracy_score(y_test, predictions))\n",
        "print(confusion_matrix(y_test, predictions))"
      ],
      "metadata": {
        "colab": {
          "base_uri": "https://localhost:8080/"
        },
        "id": "AjvS0a-36dnb",
        "outputId": "c04a1e50-c6cb-4f5c-f608-77fc827a6f20"
      },
      "execution_count": 25,
      "outputs": [
        {
          "output_type": "stream",
          "name": "stdout",
          "text": [
            "0.8301886792452831\n",
            "[[22  3]\n",
            " [ 6 22]]\n"
          ]
        }
      ]
    },
    {
      "cell_type": "code",
      "source": [
        "!pip install xgboost"
      ],
      "metadata": {
        "colab": {
          "base_uri": "https://localhost:8080/"
        },
        "id": "vhp79DmK6fNG",
        "outputId": "e11ad294-da4a-4cb8-f351-9eb9c253b800"
      },
      "execution_count": 26,
      "outputs": [
        {
          "output_type": "stream",
          "name": "stdout",
          "text": [
            "Requirement already satisfied: xgboost in /usr/local/lib/python3.10/dist-packages (2.1.1)\n",
            "Requirement already satisfied: numpy in /usr/local/lib/python3.10/dist-packages (from xgboost) (1.26.4)\n",
            "Requirement already satisfied: nvidia-nccl-cu12 in /usr/local/lib/python3.10/dist-packages (from xgboost) (2.22.3)\n",
            "Requirement already satisfied: scipy in /usr/local/lib/python3.10/dist-packages (from xgboost) (1.13.1)\n"
          ]
        }
      ]
    },
    {
      "cell_type": "markdown",
      "source": [
        "#### XGB Classifier"
      ],
      "metadata": {
        "id": "5Y9G9861MWRe"
      }
    },
    {
      "cell_type": "code",
      "source": [
        "from xgboost import XGBClassifier"
      ],
      "metadata": {
        "id": "P8Rmc83C6mbr"
      },
      "execution_count": 27,
      "outputs": []
    },
    {
      "cell_type": "code",
      "source": [
        "xgb = XGBClassifier().fit(x_train, y_train)\n",
        "predictions = xgb.predict(x_test)\n",
        "print(accuracy_score(y_test, predictions))\n",
        "print(confusion_matrix(y_test, predictions))"
      ],
      "metadata": {
        "colab": {
          "base_uri": "https://localhost:8080/"
        },
        "id": "7zm89CIq6obA",
        "outputId": "42886262-402e-4019-9ae6-1210eb3edce1"
      },
      "execution_count": 28,
      "outputs": [
        {
          "output_type": "stream",
          "name": "stdout",
          "text": [
            "0.9056603773584906\n",
            "[[22  3]\n",
            " [ 2 26]]\n"
          ]
        }
      ]
    },
    {
      "cell_type": "markdown",
      "source": [
        "#### Custom Neural Network\n",
        "\n",
        "- Model seems to be overfitting with depth and width (many neurons), that's why kept it simple"
      ],
      "metadata": {
        "id": "NSNfTimpMZj6"
      }
    },
    {
      "cell_type": "code",
      "source": [
        "import tensorflow as tf\n",
        "from tensorflow.keras.layers import Dense, Dropout\n",
        "from tensorflow.keras.initializers import GlorotUniform\n",
        "from tensorflow.keras.optimizers import Adam\n",
        "from tensorflow.keras.models import Sequential\n"
      ],
      "metadata": {
        "id": "p3AQ_KBw6sWU"
      },
      "execution_count": 34,
      "outputs": []
    },
    {
      "cell_type": "code",
      "source": [
        "model = Sequential([\n",
        "    Dense(16, activation='relu', kernel_initializer=GlorotUniform(seed = 36)),\n",
        "    Dropout(0.2, seed = 36),\n",
        "    Dense(1, activation = 'sigmoid', kernel_initializer=GlorotUniform(seed = 36))\n",
        "])\n",
        "\n",
        "model.compile(\n",
        "    optimizer=tf.keras.optimizers.Adam(0.000999),\n",
        "    loss='binary_crossentropy',\n",
        "    metrics=['accuracy']\n",
        ")\n",
        "\n",
        "history = model.fit(\n",
        "    x_train, y_train,\n",
        "    validation_data=(x_test, y_test),\n",
        "    epochs = 6\n",
        ")\n",
        "\n",
        "accuracy = history.history['accuracy']\n",
        "val_accuracy = history.history['val_accuracy']\n",
        "\n",
        "fig, ax = plt.subplots(nrows = 2, ncols = 2, figsize = (10, 4))\n",
        "ax[0, 0].plot(range(1, len(accuracy)+1), accuracy, label = 'accuracy')\n",
        "ax[0, 0].plot(range(1, len(val_accuracy)+1), val_accuracy, label = 'va_accuracy')\n",
        "ax[0, 0].set_title('Training Accuracy')\n",
        "ax[0, 1].plot(range(1, len(val_accuracy)+1), val_accuracy)\n",
        "ax[0, 1].set_title('Validation Accuracy')\n",
        "\n",
        "loss = history.history['loss']\n",
        "val_loss = history.history['val_loss']\n",
        "\n",
        "ax[1, 0].plot(range(1, len(loss)+1), loss)\n",
        "ax[1, 0].set_title('Training Loss')\n",
        "ax[1, 1].plot(range(1, len(val_loss)+1), val_loss)\n",
        "ax[1, 1].set_title('Validation Loss')\n",
        "\n",
        "ax[0, 0].legend()\n",
        "plt.tight_layout()\n",
        "plt.show()"
      ],
      "metadata": {
        "colab": {
          "base_uri": "https://localhost:8080/",
          "height": 615
        },
        "id": "kag9Yg727LGd",
        "outputId": "efd1469c-8024-4423-c6dc-e14e5b171477"
      },
      "execution_count": 55,
      "outputs": [
        {
          "output_type": "stream",
          "name": "stdout",
          "text": [
            "Epoch 1/6\n",
            "4/4 [==============================] - 1s 57ms/step - loss: 1.2158 - accuracy: 0.5537 - val_loss: 0.8050 - val_accuracy: 0.7170\n",
            "Epoch 2/6\n",
            "4/4 [==============================] - 0s 14ms/step - loss: 0.8619 - accuracy: 0.7107 - val_loss: 0.5987 - val_accuracy: 0.7358\n",
            "Epoch 3/6\n",
            "4/4 [==============================] - 0s 14ms/step - loss: 0.6356 - accuracy: 0.7438 - val_loss: 0.4653 - val_accuracy: 0.8113\n",
            "Epoch 4/6\n",
            "4/4 [==============================] - 0s 14ms/step - loss: 0.5264 - accuracy: 0.7686 - val_loss: 0.4274 - val_accuracy: 0.8679\n",
            "Epoch 5/6\n",
            "4/4 [==============================] - 0s 14ms/step - loss: 0.2991 - accuracy: 0.9008 - val_loss: 0.4251 - val_accuracy: 0.8868\n",
            "Epoch 6/6\n",
            "4/4 [==============================] - 0s 14ms/step - loss: 0.2859 - accuracy: 0.9008 - val_loss: 0.4295 - val_accuracy: 0.8868\n"
          ]
        },
        {
          "output_type": "display_data",
          "data": {
            "text/plain": [
              "<Figure size 1000x400 with 4 Axes>"
            ],
            "image/png": "[encoded data removed]"
          },
          "metadata": {}
        }
      ]
    },
    {
      "cell_type": "markdown",
      "source": [
        "## Hyperparameter Tuning"
      ],
      "metadata": {
        "id": "zK2ZTTb9NsGG"
      }
    },
    {
      "cell_type": "markdown",
      "source": [
        "- extra trees classifier gave the best raw performace so let's perform some hyperparamter tuning on this model"
      ],
      "metadata": {
        "id": "WFPd97W1N0yT"
      }
    },
    {
      "cell_type": "markdown",
      "source": [
        "**base model**"
      ],
      "metadata": {
        "id": "4XocxYBkPSlQ"
      }
    },
    {
      "cell_type": "code",
      "source": [
        "xtree = ExtraTreesClassifier(random_state=36).fit(x_train, y_train)\n",
        "predictions = xtree.predict(x_test)\n",
        "print(accuracy_score(y_test, predictions))\n",
        "print(confusion_matrix(y_test, predictions))\n",
        "print(classification_report(y_test, predictions))"
      ],
      "metadata": {
        "colab": {
          "base_uri": "https://localhost:8080/"
        },
        "id": "95Rf8wPmOZPP",
        "outputId": "1bda979f-ad62-4b4f-a6e9-5f2239431372"
      },
      "execution_count": 58,
      "outputs": [
        {
          "output_type": "stream",
          "name": "stdout",
          "text": [
            "0.8867924528301887\n",
            "[[21  4]\n",
            " [ 2 26]]\n",
            "              precision    recall  f1-score   support\n",
            "\n",
            "           0       0.91      0.84      0.87        25\n",
            "           1       0.87      0.93      0.90        28\n",
            "\n",
            "    accuracy                           0.89        53\n",
            "   macro avg       0.89      0.88      0.89        53\n",
            "weighted avg       0.89      0.89      0.89        53\n",
            "\n"
          ]
        }
      ]
    },
    {
      "cell_type": "markdown",
      "source": [
        "**with warm start**"
      ],
      "metadata": {
        "id": "9LMpFOiUPWNR"
      }
    },
    {
      "cell_type": "code",
      "source": [
        "xtree = ExtraTreesClassifier(warm_start = True, random_state=36).fit(x_train, y_train)\n",
        "predictions = xtree.predict(x_test)\n",
        "print(accuracy_score(y_test, predictions))\n",
        "print(confusion_matrix(y_test, predictions))\n",
        "print(classification_report(y_test, predictions))"
      ],
      "metadata": {
        "colab": {
          "base_uri": "https://localhost:8080/"
        },
        "id": "g9aSmxhQEAF2",
        "outputId": "fb82f288-93c0-4553-b971-daa9657290b7"
      },
      "execution_count": 57,
      "outputs": [
        {
          "output_type": "stream",
          "name": "stdout",
          "text": [
            "0.8867924528301887\n",
            "[[21  4]\n",
            " [ 2 26]]\n",
            "              precision    recall  f1-score   support\n",
            "\n",
            "           0       0.91      0.84      0.87        25\n",
            "           1       0.87      0.93      0.90        28\n",
            "\n",
            "    accuracy                           0.89        53\n",
            "   macro avg       0.89      0.88      0.89        53\n",
            "weighted avg       0.89      0.89      0.89        53\n",
            "\n"
          ]
        }
      ]
    },
    {
      "cell_type": "markdown",
      "source": [
        "**with bootstrap**"
      ],
      "metadata": {
        "id": "niCcfiZ1PZzf"
      }
    },
    {
      "cell_type": "code",
      "source": [
        "xtree = ExtraTreesClassifier(bootstrap = True, random_state=36).fit(x_train, y_train)\n",
        "predictions = xtree.predict(x_test)\n",
        "print(accuracy_score(y_test, predictions))\n",
        "print(confusion_matrix(y_test, predictions))\n",
        "print(classification_report(y_test, predictions))"
      ],
      "metadata": {
        "colab": {
          "base_uri": "https://localhost:8080/"
        },
        "id": "yY8byMRLOWEt",
        "outputId": "7a55cf63-ecf8-4b8c-f659-84767abc7052"
      },
      "execution_count": 59,
      "outputs": [
        {
          "output_type": "stream",
          "name": "stdout",
          "text": [
            "0.8679245283018868\n",
            "[[20  5]\n",
            " [ 2 26]]\n",
            "              precision    recall  f1-score   support\n",
            "\n",
            "           0       0.91      0.80      0.85        25\n",
            "           1       0.84      0.93      0.88        28\n",
            "\n",
            "    accuracy                           0.87        53\n",
            "   macro avg       0.87      0.86      0.87        53\n",
            "weighted avg       0.87      0.87      0.87        53\n",
            "\n"
          ]
        }
      ]
    },
    {
      "cell_type": "markdown",
      "source": [
        "**number of estimators**"
      ],
      "metadata": {
        "id": "3aJjWiHxPhnT"
      }
    },
    {
      "cell_type": "code",
      "source": [
        "values = [25, 50, 100, 150, 200]\n",
        "result = {}\n",
        "for value in values:\n",
        "    xtree = ExtraTreesClassifier(n_estimators = value, random_state=36).fit(x_train, y_train)\n",
        "    predictions = xtree.predict(x_test)\n",
        "    result[value] = accuracy_score(y_test, predictions)\n",
        "\n",
        "plt.plot(values, list(result.values()))\n",
        "plt.xlabel('Number of Estimators')\n",
        "plt.ylabel('Accuracy')\n",
        "plt.title('Accuracy vs Number of Estimators')\n",
        "plt.show()"
      ],
      "metadata": {
        "colab": {
          "base_uri": "https://localhost:8080/",
          "height": 472
        },
        "id": "1GJK1AQIOhJe",
        "outputId": "968bf78f-17a7-4034-e377-b4eaab7c7e61"
      },
      "execution_count": 73,
      "outputs": [
        {
          "output_type": "display_data",
          "data": {
            "text/plain": [
              "<Figure size 640x480 with 1 Axes>"
            ],
            "image/png": "[encoded data removed]"
          },
          "metadata": {}
        }
      ]
    },
    {
      "cell_type": "code",
      "source": [
        "values = ['entropy', 'gini', 'log_loss']\n",
        "result = {}\n",
        "for value in values:\n",
        "    xtree = ExtraTreesClassifier(criterion = value, random_state=36).fit(x_train, y_train)\n",
        "    predictions = xtree.predict(x_test)\n",
        "    result[value] = accuracy_score(y_test, predictions)\n",
        "\n",
        "plt.plot(values, list(result.values()))\n",
        "plt.xlabel('Criterion')\n",
        "plt.ylabel('Accuracy')\n",
        "plt.title('Accuracy vs Criterion')\n",
        "plt.show()"
      ],
      "metadata": {
        "colab": {
          "base_uri": "https://localhost:8080/",
          "height": 472
        },
        "id": "za7H9Tl_OsTH",
        "outputId": "0594cc19-6aa6-47e3-fe65-c5695daf3792"
      },
      "execution_count": 77,
      "outputs": [
        {
          "output_type": "display_data",
          "data": {
            "text/plain": [
              "<Figure size 640x480 with 1 Axes>"
            ],
            "image/png": "[encoded data removed]"
          },
          "metadata": {}
        }
      ]
    },
    {
      "cell_type": "code",
      "source": [
        "values = [2, 3, 4, 5, 6, 7, 8]\n",
        "result = {}\n",
        "for value in values:\n",
        "    xtree = ExtraTreesClassifier(max_depth = value, random_state=36).fit(x_train, y_train)\n",
        "    predictions = xtree.predict(x_test)\n",
        "    result[value] = accuracy_score(y_test, predictions)\n",
        "\n",
        "plt.plot(values, list(result.values()))\n",
        "plt.xlabel('Max Depth')\n",
        "plt.ylabel('Accuracy')\n",
        "plt.title('Accuracy vs Max Depth')\n",
        "plt.show()"
      ],
      "metadata": {
        "colab": {
          "base_uri": "https://localhost:8080/",
          "height": 472
        },
        "id": "KydtuwptQbZo",
        "outputId": "cfe60cbe-6a62-4a3a-8c8b-093ac6397b6a"
      },
      "execution_count": 78,
      "outputs": [
        {
          "output_type": "display_data",
          "data": {
            "text/plain": [
              "<Figure size 640x480 with 1 Axes>"
            ],
            "image/png": "[encoded data removed]"
          },
          "metadata": {}
        }
      ]
    },
    {
      "cell_type": "markdown",
      "source": [
        "- Nothing seems to improve the model the base model is already very precise\n",
        "- Let us now try to tune the custom neural network"
      ],
      "metadata": {
        "id": "2lvV77uXRDAV"
      }
    },
    {
      "cell_type": "markdown",
      "source": [
        "**Neural Network Tuning**"
      ],
      "metadata": {
        "id": "yhA5GOTIRpuq"
      }
    },
    {
      "cell_type": "markdown",
      "source": [
        "*Base Model*"
      ],
      "metadata": {
        "id": "iOrfOzdxRvUg"
      }
    },
    {
      "cell_type": "code",
      "source": [
        "model = Sequential([\n",
        "    Dense(16, activation='relu', kernel_initializer=GlorotUniform(seed = 36)),\n",
        "    Dropout(0.2, seed = 36),\n",
        "    Dense(1, activation = 'sigmoid', kernel_initializer=GlorotUniform(seed = 36))\n",
        "])\n",
        "\n",
        "model.compile(\n",
        "    optimizer=tf.keras.optimizers.Adam(0.000999),\n",
        "    loss='binary_crossentropy',\n",
        "    metrics=['accuracy']\n",
        ")\n",
        "\n",
        "history = model.fit(\n",
        "    x_train, y_train,\n",
        "    validation_data=(x_test, y_test),\n",
        "    epochs = 6\n",
        ")\n",
        "\n",
        "accuracy = history.history['accuracy']\n",
        "val_accuracy = history.history['val_accuracy']\n",
        "\n",
        "fig, ax = plt.subplots(nrows = 2, ncols = 2, figsize = (10, 4))\n",
        "ax[0, 0].plot(range(1, len(accuracy)+1), accuracy, label = 'accuracy')\n",
        "ax[0, 0].plot(range(1, len(val_accuracy)+1), val_accuracy, label = 'va_accuracy')\n",
        "ax[0, 0].set_title('Training Accuracy')\n",
        "ax[0, 1].plot(range(1, len(val_accuracy)+1), val_accuracy)\n",
        "ax[0, 1].set_title('Validation Accuracy')\n",
        "\n",
        "loss = history.history['loss']\n",
        "val_loss = history.history['val_loss']\n",
        "\n",
        "ax[1, 0].plot(range(1, len(loss)+1), loss)\n",
        "ax[1, 0].set_title('Training Loss')\n",
        "ax[1, 1].plot(range(1, len(val_loss)+1), val_loss)\n",
        "ax[1, 1].set_title('Validation Loss')\n",
        "\n",
        "ax[0, 0].legend()\n",
        "plt.tight_layout()\n",
        "plt.show()"
      ],
      "metadata": {
        "colab": {
          "base_uri": "https://localhost:8080/",
          "height": 615
        },
        "id": "mON5466GRlhS",
        "outputId": "746c45fa-9967-4ec1-9ce6-08ad3f2302f2"
      },
      "execution_count": 79,
      "outputs": [
        {
          "output_type": "stream",
          "name": "stdout",
          "text": [
            "Epoch 1/6\n",
            "4/4 [==============================] - 1s 61ms/step - loss: 1.2482 - accuracy: 0.5620 - val_loss: 0.7200 - val_accuracy: 0.7358\n",
            "Epoch 2/6\n",
            "4/4 [==============================] - 0s 15ms/step - loss: 0.8457 - accuracy: 0.6529 - val_loss: 0.5062 - val_accuracy: 0.7736\n",
            "Epoch 3/6\n",
            "4/4 [==============================] - 0s 14ms/step - loss: 0.5398 - accuracy: 0.7438 - val_loss: 0.4115 - val_accuracy: 0.8491\n",
            "Epoch 4/6\n",
            "4/4 [==============================] - 0s 15ms/step - loss: 0.5300 - accuracy: 0.7934 - val_loss: 0.3912 - val_accuracy: 0.8679\n",
            "Epoch 5/6\n",
            "4/4 [==============================] - 0s 14ms/step - loss: 0.4356 - accuracy: 0.8347 - val_loss: 0.4010 - val_accuracy: 0.8868\n",
            "Epoch 6/6\n",
            "4/4 [==============================] - 0s 14ms/step - loss: 0.2868 - accuracy: 0.8843 - val_loss: 0.4142 - val_accuracy: 0.8679\n"
          ]
        },
        {
          "output_type": "display_data",
          "data": {
            "text/plain": [
              "<Figure size 1000x400 with 4 Axes>"
            ],
            "image/png": "[encoded data removed]"
          },
          "metadata": {}
        }
      ]
    },
    {
      "cell_type": "markdown",
      "source": [
        "*Increasing Layers**"
      ],
      "metadata": {
        "id": "tdiRw3sHR8HC"
      }
    },
    {
      "cell_type": "code",
      "source": [
        "model = Sequential([\n",
        "    Dense(16, activation='relu', kernel_initializer=GlorotUniform(seed = 36)),\n",
        "    Dropout(0.2, seed = 36),\n",
        "    Dense(16, activation='relu', kernel_initializer=GlorotUniform(seed = 36)),\n",
        "    Dropout(0.2, seed = 36),\n",
        "    Dense(8, activation='relu', kernel_initializer=GlorotUniform(seed = 36)),\n",
        "    Dropout(0.2, seed = 36),\n",
        "    Dense(1, activation = 'sigmoid', kernel_initializer=GlorotUniform(seed = 36))\n",
        "])\n",
        "\n",
        "model.compile(\n",
        "    optimizer=tf.keras.optimizers.Adam(0.000999),\n",
        "    loss='binary_crossentropy',\n",
        "    metrics=['accuracy']\n",
        ")\n",
        "\n",
        "history = model.fit(\n",
        "    x_train, y_train,\n",
        "    validation_data=(x_test, y_test),\n",
        "    epochs = 6\n",
        ")\n",
        "\n",
        "accuracy = history.history['accuracy']\n",
        "val_accuracy = history.history['val_accuracy']\n",
        "\n",
        "fig, ax = plt.subplots(nrows = 2, ncols = 2, figsize = (10, 4))\n",
        "ax[0, 0].plot(range(1, len(accuracy)+1), accuracy, label = 'accuracy')\n",
        "ax[0, 0].plot(range(1, len(val_accuracy)+1), val_accuracy, label = 'va_accuracy')\n",
        "ax[0, 0].set_title('Training Accuracy')\n",
        "ax[0, 1].plot(range(1, len(val_accuracy)+1), val_accuracy)\n",
        "ax[0, 1].set_title('Validation Accuracy')\n",
        "\n",
        "loss = history.history['loss']\n",
        "val_loss = history.history['val_loss']\n",
        "\n",
        "ax[1, 0].plot(range(1, len(loss)+1), loss)\n",
        "ax[1, 0].set_title('Training Loss')\n",
        "ax[1, 1].plot(range(1, len(val_loss)+1), val_loss)\n",
        "ax[1, 1].set_title('Validation Loss')\n",
        "\n",
        "ax[0, 0].legend()\n",
        "plt.tight_layout()\n",
        "plt.show()"
      ],
      "metadata": {
        "colab": {
          "base_uri": "https://localhost:8080/",
          "height": 615
        },
        "id": "vw9Dz0BwR6G6",
        "outputId": "a7be48e7-e49e-42b4-91c4-3f1ba3bf9e93"
      },
      "execution_count": 80,
      "outputs": [
        {
          "output_type": "stream",
          "name": "stdout",
          "text": [
            "Epoch 1/6\n",
            "4/4 [==============================] - 1s 63ms/step - loss: 1.3008 - accuracy: 0.5041 - val_loss: 1.3840 - val_accuracy: 0.5283\n",
            "Epoch 2/6\n",
            "4/4 [==============================] - 0s 15ms/step - loss: 1.1120 - accuracy: 0.5207 - val_loss: 1.2028 - val_accuracy: 0.5283\n",
            "Epoch 3/6\n",
            "4/4 [==============================] - 0s 14ms/step - loss: 0.9843 - accuracy: 0.5289 - val_loss: 1.0423 - val_accuracy: 0.5660\n",
            "Epoch 4/6\n",
            "4/4 [==============================] - 0s 14ms/step - loss: 1.0354 - accuracy: 0.5124 - val_loss: 0.8788 - val_accuracy: 0.5660\n",
            "Epoch 5/6\n",
            "4/4 [==============================] - 0s 14ms/step - loss: 0.7147 - accuracy: 0.5537 - val_loss: 0.7569 - val_accuracy: 0.6226\n",
            "Epoch 6/6\n",
            "4/4 [==============================] - 0s 14ms/step - loss: 0.8783 - accuracy: 0.5289 - val_loss: 0.6457 - val_accuracy: 0.6226\n"
          ]
        },
        {
          "output_type": "display_data",
          "data": {
            "text/plain": [
              "<Figure size 1000x400 with 4 Axes>"
            ],
            "image/png": "[encoded data removed]"
          },
          "metadata": {}
        }
      ]
    },
    {
      "cell_type": "markdown",
      "source": [
        "*Increasing Neurons**"
      ],
      "metadata": {
        "id": "_xMzJUZlSKau"
      }
    },
    {
      "cell_type": "code",
      "source": [
        "model = Sequential([\n",
        "    Dense(128, activation='relu', kernel_initializer=GlorotUniform(seed = 36)),\n",
        "    Dropout(0.2, seed = 36),\n",
        "    Dense(1, activation = 'sigmoid', kernel_initializer=GlorotUniform(seed = 36))\n",
        "])\n",
        "\n",
        "model.compile(\n",
        "    optimizer=tf.keras.optimizers.Adam(0.000999),\n",
        "    loss='binary_crossentropy',\n",
        "    metrics=['accuracy']\n",
        ")\n",
        "\n",
        "history = model.fit(\n",
        "    x_train, y_train,\n",
        "    validation_data=(x_test, y_test),\n",
        "    epochs = 6\n",
        ")\n",
        "\n",
        "accuracy = history.history['accuracy']\n",
        "val_accuracy = history.history['val_accuracy']\n",
        "\n",
        "fig, ax = plt.subplots(nrows = 2, ncols = 2, figsize = (10, 4))\n",
        "ax[0, 0].plot(range(1, len(accuracy)+1), accuracy, label = 'accuracy')\n",
        "ax[0, 0].plot(range(1, len(val_accuracy)+1), val_accuracy, label = 'va_accuracy')\n",
        "ax[0, 0].set_title('Training Accuracy')\n",
        "ax[0, 1].plot(range(1, len(val_accuracy)+1), val_accuracy)\n",
        "ax[0, 1].set_title('Validation Accuracy')\n",
        "\n",
        "loss = history.history['loss']\n",
        "val_loss = history.history['val_loss']\n",
        "\n",
        "ax[1, 0].plot(range(1, len(loss)+1), loss)\n",
        "ax[1, 0].set_title('Training Loss')\n",
        "ax[1, 1].plot(range(1, len(val_loss)+1), val_loss)\n",
        "ax[1, 1].set_title('Validation Loss')\n",
        "\n",
        "ax[0, 0].legend()\n",
        "plt.tight_layout()\n",
        "plt.show()"
      ],
      "metadata": {
        "colab": {
          "base_uri": "https://localhost:8080/",
          "height": 615
        },
        "id": "AM6obieqSF-r",
        "outputId": "cfe44d07-149a-4747-c4f2-50cee2838f45"
      },
      "execution_count": 81,
      "outputs": [
        {
          "output_type": "stream",
          "name": "stdout",
          "text": [
            "Epoch 1/6\n",
            "4/4 [==============================] - 1s 63ms/step - loss: 1.0022 - accuracy: 0.6612 - val_loss: 0.5936 - val_accuracy: 0.6981\n",
            "Epoch 2/6\n",
            "4/4 [==============================] - 0s 16ms/step - loss: 0.4857 - accuracy: 0.8182 - val_loss: 0.5560 - val_accuracy: 0.8113\n",
            "Epoch 3/6\n",
            "4/4 [==============================] - 0s 16ms/step - loss: 0.2909 - accuracy: 0.9091 - val_loss: 0.6103 - val_accuracy: 0.8113\n",
            "Epoch 4/6\n",
            "4/4 [==============================] - 0s 16ms/step - loss: 0.3074 - accuracy: 0.9339 - val_loss: 0.6620 - val_accuracy: 0.8302\n",
            "Epoch 5/6\n",
            "4/4 [==============================] - 0s 16ms/step - loss: 0.1876 - accuracy: 0.9339 - val_loss: 0.6864 - val_accuracy: 0.8302\n",
            "Epoch 6/6\n",
            "4/4 [==============================] - 0s 16ms/step - loss: 0.0922 - accuracy: 0.9587 - val_loss: 0.6986 - val_accuracy: 0.8302\n"
          ]
        },
        {
          "output_type": "display_data",
          "data": {
            "text/plain": [
              "<Figure size 1000x400 with 4 Axes>"
            ],
            "image/png": "[encoded data removed]"
          },
          "metadata": {}
        }
      ]
    },
    {
      "cell_type": "code",
      "source": [],
      "metadata": {
        "id": "VgEFOQ3bSfOf"
      },
      "execution_count": null,
      "outputs": []
    }
  ]
}